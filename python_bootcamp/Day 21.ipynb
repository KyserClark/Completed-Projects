{
 "cells": [
  {
   "cell_type": "code",
   "execution_count": 23,
   "metadata": {},
   "outputs": [],
   "source": [
    "import random\n",
    "\n",
    "suits = ('Hearts', 'Diamonds', 'Spades', 'Clubs')\n",
    "ranks = ('Two', 'Three', 'Four', 'Five', 'Six', 'Seven', 'Eight', 'Nine', 'Ten', 'Jack', 'Queen', 'King', 'Ace')\n",
    "values = {'Two':2, 'Three':3, 'Four':4, 'Five':5, 'Six':6, 'Seven':7, 'Eight':8, \n",
    "            'Nine':9, 'Ten':10, 'Jack':11, 'Queen':12, 'King':13, 'Ace':14}"
   ]
  },
  {
   "cell_type": "code",
   "execution_count": 12,
   "metadata": {},
   "outputs": [],
   "source": [
    "class Card:\n",
    "    \n",
    "    def __init__(self,suit,rank):\n",
    "        self.suit = suit\n",
    "        self.rank = rank\n",
    "        self.value = values[rank]\n",
    "    \n",
    "    def __str__(self):\n",
    "        return self.rank + \" of \" + self.suit"
   ]
  },
  {
   "cell_type": "code",
   "execution_count": 20,
   "metadata": {},
   "outputs": [],
   "source": [
    "two_hearts = Card(\"Hearts\", \"Two\")"
   ]
  },
  {
   "cell_type": "code",
   "execution_count": 4,
   "metadata": {},
   "outputs": [
    {
     "data": {
      "text/plain": [
       "<__main__.Card at 0x1ab6d7ab700>"
      ]
     },
     "execution_count": 4,
     "metadata": {},
     "output_type": "execute_result"
    }
   ],
   "source": [
    "two_hearts"
   ]
  },
  {
   "cell_type": "code",
   "execution_count": 5,
   "metadata": {},
   "outputs": [
    {
     "name": "stdout",
     "output_type": "stream",
     "text": [
      "Two of Hearts\n"
     ]
    }
   ],
   "source": [
    "print(two_hearts)"
   ]
  },
  {
   "cell_type": "code",
   "execution_count": 6,
   "metadata": {},
   "outputs": [
    {
     "data": {
      "text/plain": [
       "'Hearts'"
      ]
     },
     "execution_count": 6,
     "metadata": {},
     "output_type": "execute_result"
    }
   ],
   "source": [
    "two_hearts.suit"
   ]
  },
  {
   "cell_type": "code",
   "execution_count": 7,
   "metadata": {},
   "outputs": [
    {
     "data": {
      "text/plain": [
       "'Two'"
      ]
     },
     "execution_count": 7,
     "metadata": {},
     "output_type": "execute_result"
    }
   ],
   "source": [
    "two_hearts.rank"
   ]
  },
  {
   "cell_type": "code",
   "execution_count": 10,
   "metadata": {},
   "outputs": [
    {
     "data": {
      "text/plain": [
       "2"
      ]
     },
     "execution_count": 10,
     "metadata": {},
     "output_type": "execute_result"
    }
   ],
   "source": [
    "values[two_hearts.rank]"
   ]
  },
  {
   "cell_type": "code",
   "execution_count": 13,
   "metadata": {},
   "outputs": [],
   "source": [
    "three_of_clubs = Card('Clubs','Three')"
   ]
  },
  {
   "cell_type": "code",
   "execution_count": 14,
   "metadata": {},
   "outputs": [
    {
     "data": {
      "text/plain": [
       "'Three'"
      ]
     },
     "execution_count": 14,
     "metadata": {},
     "output_type": "execute_result"
    }
   ],
   "source": [
    "three_of_clubs.rank"
   ]
  },
  {
   "cell_type": "code",
   "execution_count": 15,
   "metadata": {},
   "outputs": [
    {
     "data": {
      "text/plain": [
       "'Clubs'"
      ]
     },
     "execution_count": 15,
     "metadata": {},
     "output_type": "execute_result"
    }
   ],
   "source": [
    "three_of_clubs.suit"
   ]
  },
  {
   "cell_type": "code",
   "execution_count": 16,
   "metadata": {},
   "outputs": [
    {
     "data": {
      "text/plain": [
       "3"
      ]
     },
     "execution_count": 16,
     "metadata": {},
     "output_type": "execute_result"
    }
   ],
   "source": [
    "three_of_clubs.value"
   ]
  },
  {
   "cell_type": "code",
   "execution_count": 21,
   "metadata": {},
   "outputs": [
    {
     "data": {
      "text/plain": [
       "True"
      ]
     },
     "execution_count": 21,
     "metadata": {},
     "output_type": "execute_result"
    }
   ],
   "source": [
    "two_hearts.value < three_of_clubs.value"
   ]
  },
  {
   "cell_type": "code",
   "execution_count": 24,
   "metadata": {},
   "outputs": [],
   "source": [
    "class Deck:\n",
    "    \n",
    "    def __init__(self):\n",
    "        \n",
    "        self.all_cards = []\n",
    "        \n",
    "        for suit in suits:\n",
    "            for rank in ranks:\n",
    "                # Create the Card Object\n",
    "                created_card = Card(suit,rank)\n",
    "                self.all_cards.append(created_card)"
   ]
  },
  {
   "cell_type": "code",
   "execution_count": 25,
   "metadata": {},
   "outputs": [],
   "source": [
    "new_deck = Deck()"
   ]
  },
  {
   "cell_type": "code",
   "execution_count": 28,
   "metadata": {},
   "outputs": [
    {
     "data": {
      "text/plain": [
       "[<__main__.Card at 0x1ab6e94e9d0>,\n",
       " <__main__.Card at 0x1ab6e94e550>,\n",
       " <__main__.Card at 0x1ab6e94e250>,\n",
       " <__main__.Card at 0x1ab6e94e5e0>,\n",
       " <__main__.Card at 0x1ab6e94e400>,\n",
       " <__main__.Card at 0x1ab6e94e3a0>,\n",
       " <__main__.Card at 0x1ab6e94eaf0>,\n",
       " <__main__.Card at 0x1ab6e94e190>,\n",
       " <__main__.Card at 0x1ab6e94e970>,\n",
       " <__main__.Card at 0x1ab6e94e2b0>,\n",
       " <__main__.Card at 0x1ab6e94efd0>,\n",
       " <__main__.Card at 0x1ab6e94e520>,\n",
       " <__main__.Card at 0x1ab6e3bd640>,\n",
       " <__main__.Card at 0x1ab6e928880>,\n",
       " <__main__.Card at 0x1ab6e928310>,\n",
       " <__main__.Card at 0x1ab6e928e50>,\n",
       " <__main__.Card at 0x1ab6e928b80>,\n",
       " <__main__.Card at 0x1ab6e928970>,\n",
       " <__main__.Card at 0x1ab6e9280d0>,\n",
       " <__main__.Card at 0x1ab6e928d90>,\n",
       " <__main__.Card at 0x1ab6e928820>,\n",
       " <__main__.Card at 0x1ab6e928c40>,\n",
       " <__main__.Card at 0x1ab6e8b9790>,\n",
       " <__main__.Card at 0x1ab6e8b9310>,\n",
       " <__main__.Card at 0x1ab6e8b9af0>,\n",
       " <__main__.Card at 0x1ab6e8b9fa0>,\n",
       " <__main__.Card at 0x1ab6e8b98e0>,\n",
       " <__main__.Card at 0x1ab6e8b93a0>,\n",
       " <__main__.Card at 0x1ab6e8b9100>,\n",
       " <__main__.Card at 0x1ab6e8b9670>,\n",
       " <__main__.Card at 0x1ab6e8b9640>,\n",
       " <__main__.Card at 0x1ab6e8b9040>,\n",
       " <__main__.Card at 0x1ab6e8b9850>,\n",
       " <__main__.Card at 0x1ab6e8b9d30>,\n",
       " <__main__.Card at 0x1ab6e8b90d0>,\n",
       " <__main__.Card at 0x1ab6e8b9370>,\n",
       " <__main__.Card at 0x1ab6e8b9f10>,\n",
       " <__main__.Card at 0x1ab6e8b9a00>,\n",
       " <__main__.Card at 0x1ab6e8b9a90>,\n",
       " <__main__.Card at 0x1ab6e8b90a0>,\n",
       " <__main__.Card at 0x1ab6e8b9e80>,\n",
       " <__main__.Card at 0x1ab6e8b9430>,\n",
       " <__main__.Card at 0x1ab6e8b9d90>,\n",
       " <__main__.Card at 0x1ab6e8b9190>,\n",
       " <__main__.Card at 0x1ab6e8b9ac0>,\n",
       " <__main__.Card at 0x1ab6e8b9700>,\n",
       " <__main__.Card at 0x1ab6e8b94c0>,\n",
       " <__main__.Card at 0x1ab6e8b9280>,\n",
       " <__main__.Card at 0x1ab6e75cb80>,\n",
       " <__main__.Card at 0x1ab6e75c760>,\n",
       " <__main__.Card at 0x1ab6e75c520>,\n",
       " <__main__.Card at 0x1ab6e75c220>]"
      ]
     },
     "execution_count": 28,
     "metadata": {},
     "output_type": "execute_result"
    }
   ],
   "source": [
    "new_deck.all_cards"
   ]
  },
  {
   "cell_type": "code",
   "execution_count": 29,
   "metadata": {},
   "outputs": [
    {
     "data": {
      "text/plain": [
       "<__main__.Card at 0x1ab6e94e9d0>"
      ]
     },
     "execution_count": 29,
     "metadata": {},
     "output_type": "execute_result"
    }
   ],
   "source": [
    "new_deck.all_cards[0]"
   ]
  },
  {
   "cell_type": "code",
   "execution_count": 33,
   "metadata": {},
   "outputs": [],
   "source": [
    "first_card = new_deck.all_cards[0]"
   ]
  },
  {
   "cell_type": "code",
   "execution_count": 34,
   "metadata": {},
   "outputs": [
    {
     "name": "stdout",
     "output_type": "stream",
     "text": [
      "Two of Hearts\n"
     ]
    }
   ],
   "source": [
    "print(first_card)"
   ]
  },
  {
   "cell_type": "code",
   "execution_count": 35,
   "metadata": {},
   "outputs": [],
   "source": [
    "last_card = new_deck.all_cards[-1]"
   ]
  },
  {
   "cell_type": "code",
   "execution_count": 36,
   "metadata": {},
   "outputs": [
    {
     "name": "stdout",
     "output_type": "stream",
     "text": [
      "Ace of Clubs\n"
     ]
    }
   ],
   "source": [
    "print(last_card)"
   ]
  },
  {
   "cell_type": "code",
   "execution_count": 37,
   "metadata": {},
   "outputs": [
    {
     "name": "stdout",
     "output_type": "stream",
     "text": [
      "Two of Hearts\n",
      "Three of Hearts\n",
      "Four of Hearts\n",
      "Five of Hearts\n",
      "Six of Hearts\n",
      "Seven of Hearts\n",
      "Eight of Hearts\n",
      "Nine of Hearts\n",
      "Ten of Hearts\n",
      "Jack of Hearts\n",
      "Queen of Hearts\n",
      "King of Hearts\n",
      "Ace of Hearts\n",
      "Two of Diamonds\n",
      "Three of Diamonds\n",
      "Four of Diamonds\n",
      "Five of Diamonds\n",
      "Six of Diamonds\n",
      "Seven of Diamonds\n",
      "Eight of Diamonds\n",
      "Nine of Diamonds\n",
      "Ten of Diamonds\n",
      "Jack of Diamonds\n",
      "Queen of Diamonds\n",
      "King of Diamonds\n",
      "Ace of Diamonds\n",
      "Two of Spades\n",
      "Three of Spades\n",
      "Four of Spades\n",
      "Five of Spades\n",
      "Six of Spades\n",
      "Seven of Spades\n",
      "Eight of Spades\n",
      "Nine of Spades\n",
      "Ten of Spades\n",
      "Jack of Spades\n",
      "Queen of Spades\n",
      "King of Spades\n",
      "Ace of Spades\n",
      "Two of Clubs\n",
      "Three of Clubs\n",
      "Four of Clubs\n",
      "Five of Clubs\n",
      "Six of Clubs\n",
      "Seven of Clubs\n",
      "Eight of Clubs\n",
      "Nine of Clubs\n",
      "Ten of Clubs\n",
      "Jack of Clubs\n",
      "Queen of Clubs\n",
      "King of Clubs\n",
      "Ace of Clubs\n"
     ]
    }
   ],
   "source": [
    "for card_object in new_deck.all_cards:\n",
    "    print(card_object)"
   ]
  },
  {
   "cell_type": "code",
   "execution_count": 39,
   "metadata": {},
   "outputs": [],
   "source": [
    "class Deck:\n",
    "    \n",
    "    def __init__(self):\n",
    "        \n",
    "        self.all_cards = []\n",
    "        \n",
    "        for suit in suits:\n",
    "            for rank in ranks:\n",
    "                # Create the Card Object\n",
    "                created_card = Card(suit,rank)\n",
    "                self.all_cards.append(created_card)\n",
    "    \n",
    "    def shuffle(self):\n",
    "        random.shuffle(self.all_cards)"
   ]
  },
  {
   "cell_type": "code",
   "execution_count": 40,
   "metadata": {},
   "outputs": [],
   "source": [
    "new_deck = Deck()"
   ]
  },
  {
   "cell_type": "code",
   "execution_count": 41,
   "metadata": {},
   "outputs": [],
   "source": [
    "bottom_card = new_deck.all_cards[-1]"
   ]
  },
  {
   "cell_type": "code",
   "execution_count": 42,
   "metadata": {},
   "outputs": [
    {
     "name": "stdout",
     "output_type": "stream",
     "text": [
      "Ace of Clubs\n"
     ]
    }
   ],
   "source": [
    "print(bottom_card)"
   ]
  },
  {
   "cell_type": "code",
   "execution_count": 43,
   "metadata": {},
   "outputs": [],
   "source": [
    "new_deck.shuffle()"
   ]
  },
  {
   "cell_type": "code",
   "execution_count": 44,
   "metadata": {},
   "outputs": [
    {
     "name": "stdout",
     "output_type": "stream",
     "text": [
      "Five of Clubs\n"
     ]
    }
   ],
   "source": [
    "print(new_deck.all_cards[-1])"
   ]
  },
  {
   "cell_type": "code",
   "execution_count": 45,
   "metadata": {},
   "outputs": [
    {
     "name": "stdout",
     "output_type": "stream",
     "text": [
      "Jack of Spades\n"
     ]
    }
   ],
   "source": [
    "print(new_deck.all_cards[0])"
   ]
  },
  {
   "cell_type": "code",
   "execution_count": 47,
   "metadata": {},
   "outputs": [
    {
     "name": "stdout",
     "output_type": "stream",
     "text": [
      "[<__main__.Card object at 0x000001AB6E86D8B0>]\n"
     ]
    }
   ],
   "source": [
    "print(new_deck.all_cards[:1])"
   ]
  },
  {
   "cell_type": "code",
   "execution_count": 48,
   "metadata": {},
   "outputs": [],
   "source": [
    "class Deck:\n",
    "    \n",
    "    def __init__(self):\n",
    "        \n",
    "        self.all_cards = []\n",
    "        \n",
    "        for suit in suits:\n",
    "            for rank in ranks:\n",
    "                # Create the Card Object\n",
    "                created_card = Card(suit,rank)\n",
    "                self.all_cards.append(created_card)\n",
    "    \n",
    "    def shuffle(self):\n",
    "        random.shuffle(self.all_cards)\n",
    "        \n",
    "    def deal_one(self):\n",
    "        return self.all_cards.pop()"
   ]
  },
  {
   "cell_type": "code",
   "execution_count": 49,
   "metadata": {},
   "outputs": [],
   "source": [
    "new_deck = Deck()"
   ]
  },
  {
   "cell_type": "code",
   "execution_count": 50,
   "metadata": {},
   "outputs": [],
   "source": [
    "new_deck.shuffle()"
   ]
  },
  {
   "cell_type": "code",
   "execution_count": 51,
   "metadata": {},
   "outputs": [],
   "source": [
    "mycard = new_deck.deal_one()"
   ]
  },
  {
   "cell_type": "code",
   "execution_count": 52,
   "metadata": {},
   "outputs": [
    {
     "name": "stdout",
     "output_type": "stream",
     "text": [
      "Ten of Hearts\n"
     ]
    }
   ],
   "source": [
    "print(mycard)"
   ]
  },
  {
   "cell_type": "code",
   "execution_count": 53,
   "metadata": {},
   "outputs": [
    {
     "data": {
      "text/plain": [
       "51"
      ]
     },
     "execution_count": 53,
     "metadata": {},
     "output_type": "execute_result"
    }
   ],
   "source": [
    "len(new_deck.all_cards)"
   ]
  },
  {
   "cell_type": "code",
   "execution_count": 69,
   "metadata": {},
   "outputs": [],
   "source": [
    "class Player:\n",
    "    def __init__(self,name):\n",
    "        self.name = name\n",
    "        self.all_cards = []\n",
    "    \n",
    "    def remove_one(self):\n",
    "        return self.all_cards.pop(0)\n",
    "    \n",
    "    def add_cards(self,new_cards):\n",
    "        if type(new_cards) == type([]):\n",
    "            self.all_cards.extend(new_cards)\n",
    "        else:\n",
    "            self.all_cards.append(new_cards)\n",
    "    \n",
    "    def __str__(self):\n",
    "        return f'Player {self.name} has {len(self.all_cards)} cards. '"
   ]
  },
  {
   "cell_type": "code",
   "execution_count": 70,
   "metadata": {},
   "outputs": [],
   "source": [
    "new_player = Player(\"Kyser\")"
   ]
  },
  {
   "cell_type": "code",
   "execution_count": 72,
   "metadata": {},
   "outputs": [
    {
     "name": "stdout",
     "output_type": "stream",
     "text": [
      "Player Kyser has 0 cards. \n"
     ]
    }
   ],
   "source": [
    "print(new_player)"
   ]
  },
  {
   "cell_type": "code",
   "execution_count": 73,
   "metadata": {},
   "outputs": [],
   "source": [
    "new_player.add_cards(mycard)"
   ]
  },
  {
   "cell_type": "code",
   "execution_count": 74,
   "metadata": {},
   "outputs": [
    {
     "name": "stdout",
     "output_type": "stream",
     "text": [
      "Ten of Hearts\n"
     ]
    }
   ],
   "source": [
    "print(mycard)"
   ]
  },
  {
   "cell_type": "code",
   "execution_count": 75,
   "metadata": {},
   "outputs": [
    {
     "name": "stdout",
     "output_type": "stream",
     "text": [
      "Player Kyser has 1 cards. \n"
     ]
    }
   ],
   "source": [
    "print(new_player)"
   ]
  },
  {
   "cell_type": "code",
   "execution_count": 76,
   "metadata": {},
   "outputs": [
    {
     "name": "stdout",
     "output_type": "stream",
     "text": [
      "Ten of Hearts\n"
     ]
    }
   ],
   "source": [
    "print(new_player.all_cards[0])"
   ]
  },
  {
   "cell_type": "code",
   "execution_count": 77,
   "metadata": {},
   "outputs": [],
   "source": [
    "new_player.add_cards([mycard,mycard,mycard])"
   ]
  },
  {
   "cell_type": "code",
   "execution_count": 78,
   "metadata": {},
   "outputs": [
    {
     "name": "stdout",
     "output_type": "stream",
     "text": [
      "Player Kyser has 4 cards. \n"
     ]
    }
   ],
   "source": [
    "print(new_player)"
   ]
  },
  {
   "cell_type": "code",
   "execution_count": 79,
   "metadata": {},
   "outputs": [
    {
     "data": {
      "text/plain": [
       "<__main__.Card at 0x1ab6f463dc0>"
      ]
     },
     "execution_count": 79,
     "metadata": {},
     "output_type": "execute_result"
    }
   ],
   "source": [
    "new_player.remove_one()"
   ]
  },
  {
   "cell_type": "code",
   "execution_count": 80,
   "metadata": {},
   "outputs": [
    {
     "name": "stdout",
     "output_type": "stream",
     "text": [
      "Player Kyser has 3 cards. \n"
     ]
    }
   ],
   "source": [
    "print(new_player)"
   ]
  },
  {
   "cell_type": "code",
   "execution_count": 116,
   "metadata": {},
   "outputs": [],
   "source": [
    "# Game Setup\n",
    "player_one = Player(\"One\")\n",
    "player_two = Player(\"Two\")\n",
    "\n",
    "new_deck = Deck()\n",
    "new_deck.shuffle()\n",
    "\n",
    "for x in range(26):\n",
    "    player_one.add_cards(new_deck.deal_one())\n",
    "    player_two.add_cards(new_deck.deal_one())"
   ]
  },
  {
   "cell_type": "code",
   "execution_count": 85,
   "metadata": {},
   "outputs": [
    {
     "data": {
      "text/plain": [
       "26"
      ]
     },
     "execution_count": 85,
     "metadata": {},
     "output_type": "execute_result"
    }
   ],
   "source": [
    "len(player_one.all_cards)"
   ]
  },
  {
   "cell_type": "code",
   "execution_count": 88,
   "metadata": {},
   "outputs": [
    {
     "name": "stdout",
     "output_type": "stream",
     "text": [
      "Queen of Clubs\n"
     ]
    }
   ],
   "source": [
    "print(player_one.all_cards[0])"
   ]
  },
  {
   "cell_type": "code",
   "execution_count": 98,
   "metadata": {},
   "outputs": [],
   "source": [
    "game_on = True"
   ]
  },
  {
   "cell_type": "code",
   "execution_count": 117,
   "metadata": {},
   "outputs": [
    {
     "name": "stdout",
     "output_type": "stream",
     "text": [
      "Round 1\n",
      "Round 2\n",
      "Round 3\n",
      "Round 4\n",
      "Round 5\n",
      "WAR!!!!\n",
      "Round 6\n",
      "Round 7\n",
      "Round 8\n",
      "Round 9\n",
      "Round 10\n",
      "Round 11\n",
      "Round 12\n",
      "Round 13\n",
      "Round 14\n",
      "Round 15\n",
      "Round 16\n",
      "Round 17\n",
      "Round 18\n",
      "Round 19\n",
      "Round 20\n",
      "Round 21\n",
      "Round 22\n",
      "Round 23\n",
      "Round 24\n",
      "Round 25\n",
      "Round 26\n",
      "Round 27\n",
      "Round 28\n",
      "Round 29\n",
      "Round 30\n",
      "Round 31\n",
      "Round 32\n",
      "Round 33\n",
      "Round 34\n",
      "Round 35\n",
      "Round 36\n",
      "Round 37\n",
      "Round 38\n",
      "Round 39\n",
      "Round 40\n",
      "Round 41\n",
      "Round 42\n",
      "Round 43\n",
      "Round 44\n",
      "Round 45\n",
      "Round 46\n",
      "Round 47\n",
      "Round 48\n",
      "Round 49\n",
      "Round 50\n",
      "Round 51\n",
      "Round 52\n",
      "Round 53\n",
      "Round 54\n",
      "Round 55\n",
      "Round 56\n",
      "Round 57\n",
      "Round 58\n",
      "Round 59\n",
      "Round 60\n",
      "Round 61\n",
      "Round 62\n",
      "Round 63\n",
      "Round 64\n",
      "Round 65\n",
      "Round 66\n",
      "Round 67\n",
      "Round 68\n",
      "Round 69\n",
      "Round 70\n",
      "Round 71\n",
      "Round 72\n",
      "Round 73\n",
      "Round 74\n",
      "Round 75\n",
      "Round 76\n",
      "Round 77\n",
      "Round 78\n",
      "Round 79\n",
      "Round 80\n",
      "Round 81\n",
      "Round 82\n",
      "Round 83\n",
      "Round 84\n",
      "Round 85\n",
      "Round 86\n",
      "Round 87\n",
      "Round 88\n",
      "Round 89\n",
      "Round 90\n",
      "Round 91\n",
      "Round 92\n",
      "Round 93\n",
      "Round 94\n",
      "Round 95\n",
      "Round 96\n",
      "Round 97\n",
      "Round 98\n",
      "Round 99\n",
      "Round 100\n",
      "Round 101\n",
      "Round 102\n",
      "Round 103\n",
      "Round 104\n",
      "Round 105\n",
      "Round 106\n",
      "Round 107\n",
      "Round 108\n",
      "Round 109\n",
      "Round 110\n",
      "Round 111\n",
      "Round 112\n",
      "Round 113\n",
      "Round 114\n",
      "Round 115\n",
      "Round 116\n",
      "Round 117\n",
      "Round 118\n",
      "Round 119\n",
      "Round 120\n",
      "Round 121\n",
      "Round 122\n",
      "Round 123\n",
      "Round 124\n",
      "Round 125\n",
      "Round 126\n",
      "Round 127\n",
      "Round 128\n",
      "Round 129\n",
      "Round 130\n",
      "Round 131\n",
      "Round 132\n",
      "Round 133\n",
      "Round 134\n",
      "Round 135\n",
      "Round 136\n",
      "Round 137\n",
      "Round 138\n",
      "Round 139\n",
      "Round 140\n",
      "Round 141\n",
      "Round 142\n",
      "Round 143\n",
      "Round 144\n",
      "Round 145\n",
      "Round 146\n",
      "Round 147\n",
      "Round 148\n",
      "Round 149\n",
      "Round 150\n",
      "Round 151\n",
      "Round 152\n",
      "Round 153\n",
      "Round 154\n",
      "Round 155\n",
      "Round 156\n",
      "Round 157\n",
      "Round 158\n",
      "Round 159\n",
      "Round 160\n",
      "Round 161\n",
      "Round 162\n",
      "Round 163\n",
      "Round 164\n",
      "Round 165\n",
      "Round 166\n",
      "Round 167\n",
      "Round 168\n",
      "Round 169\n",
      "Round 170\n",
      "Round 171\n",
      "Round 172\n",
      "Round 173\n",
      "Round 174\n",
      "Round 175\n",
      "Round 176\n",
      "Round 177\n",
      "Round 178\n",
      "Round 179\n",
      "Round 180\n",
      "Round 181\n",
      "Round 182\n",
      "Round 183\n",
      "Round 184\n",
      "Round 185\n",
      "Round 186\n",
      "Round 187\n",
      "Round 188\n",
      "Round 189\n",
      "Round 190\n",
      "Round 191\n",
      "Round 192\n",
      "Round 193\n",
      "Round 194\n",
      "Round 195\n",
      "Round 196\n",
      "Round 197\n",
      "Round 198\n",
      "Round 199\n",
      "Round 200\n",
      "Round 201\n",
      "Round 202\n",
      "Round 203\n",
      "Round 204\n",
      "Round 205\n",
      "Round 206\n",
      "Round 207\n",
      "Round 208\n",
      "Round 209\n",
      "Round 210\n",
      "Round 211\n",
      "Round 212\n",
      "Round 213\n",
      "Round 214\n",
      "Round 215\n",
      "Round 216\n",
      "Round 217\n",
      "Round 218\n",
      "Round 219\n",
      "Round 220\n",
      "Round 221\n",
      "Round 222\n",
      "Round 223\n",
      "Round 224\n",
      "Round 225\n",
      "Round 226\n",
      "Round 227\n",
      "Round 228\n",
      "Round 229\n",
      "Round 230\n",
      "Round 231\n",
      "Round 232\n",
      "Round 233\n",
      "Round 234\n",
      "Round 235\n",
      "Round 236\n",
      "Round 237\n",
      "Round 238\n",
      "Round 239\n",
      "Round 240\n",
      "Round 241\n",
      "Round 242\n",
      "Round 243\n",
      "Round 244\n",
      "Round 245\n",
      "Round 246\n",
      "Round 247\n",
      "Round 248\n",
      "Round 249\n",
      "Round 250\n",
      "Round 251\n",
      "Round 252\n",
      "Round 253\n",
      "Round 254\n",
      "Round 255\n",
      "Round 256\n",
      "Round 257\n",
      "Round 258\n",
      "Round 259\n",
      "Round 260\n",
      "Round 261\n",
      "Round 262\n",
      "Round 263\n",
      "Round 264\n",
      "Round 265\n",
      "Round 266\n",
      "Round 267\n",
      "Round 268\n",
      "Round 269\n",
      "Round 270\n",
      "Round 271\n",
      "Round 272\n",
      "Round 273\n",
      "Round 274\n",
      "Round 275\n",
      "Round 276\n",
      "Round 277\n",
      "Round 278\n",
      "Round 279\n",
      "Round 280\n",
      "Round 281\n",
      "Round 282\n",
      "Round 283\n",
      "Round 284\n",
      "Round 285\n",
      "Round 286\n",
      "Round 287\n",
      "Round 288\n",
      "Round 289\n",
      "Round 290\n",
      "Round 291\n",
      "Round 292\n",
      "Round 293\n",
      "Round 294\n",
      "Round 295\n",
      "Round 296\n",
      "Round 297\n",
      "Round 298\n",
      "Round 299\n",
      "Round 300\n",
      "Round 301\n",
      "Round 302\n",
      "Round 303\n",
      "Round 304\n",
      "Round 305\n",
      "Round 306\n",
      "Round 307\n",
      "Round 308\n",
      "Round 309\n",
      "Round 310\n",
      "Round 311\n",
      "Round 312\n",
      "Round 313\n",
      "Round 314\n",
      "Round 315\n",
      "Round 316\n",
      "Round 317\n",
      "Round 318\n",
      "Round 319\n",
      "Round 320\n",
      "Round 321\n",
      "Round 322\n",
      "Round 323\n",
      "Round 324\n",
      "Round 325\n",
      "Round 326\n",
      "Round 327\n",
      "Round 328\n",
      "Round 329\n",
      "Round 330\n",
      "Round 331\n",
      "Round 332\n",
      "Round 333\n",
      "Round 334\n",
      "Round 335\n",
      "Round 336\n",
      "Round 337\n",
      "Round 338\n",
      "Round 339\n",
      "Round 340\n",
      "Round 341\n",
      "Round 342\n",
      "Round 343\n",
      "Round 344\n",
      "Round 345\n",
      "Round 346\n",
      "Round 347\n",
      "Round 348\n",
      "Round 349\n",
      "Round 350\n",
      "Round 351\n",
      "Round 352\n",
      "Round 353\n",
      "Round 354\n",
      "Round 355\n",
      "Round 356\n",
      "Round 357\n",
      "Round 358\n",
      "Round 359\n",
      "Round 360\n",
      "Round 361\n",
      "Round 362\n",
      "Round 363\n",
      "Round 364\n",
      "Round 365\n",
      "Round 366\n",
      "Round 367\n",
      "Round 368\n",
      "Round 369\n",
      "Round 370\n",
      "Round 371\n",
      "Round 372\n",
      "Round 373\n",
      "Round 374\n",
      "Round 375\n",
      "Round 376\n",
      "Round 377\n",
      "Round 378\n",
      "Round 379\n",
      "Round 380\n",
      "Round 381\n",
      "Round 382\n",
      "Round 383\n",
      "Round 384\n",
      "Round 385\n",
      "Round 386\n",
      "Round 387\n",
      "Round 388\n",
      "Round 389\n",
      "Round 390\n",
      "Round 391\n",
      "Round 392\n",
      "Round 393\n",
      "Round 394\n",
      "Round 395\n",
      "Round 396\n",
      "Round 397\n",
      "Round 398\n",
      "Round 399\n",
      "Round 400\n",
      "Round 401\n",
      "Round 402\n",
      "Round 403\n",
      "Round 404\n",
      "Round 405\n",
      "Round 406\n",
      "Round 407\n",
      "Round 408\n",
      "Round 409\n",
      "Round 410\n",
      "WAR!!!!\n",
      "Round 411\n",
      "Round 412\n",
      "Round 413\n",
      "Round 414\n",
      "Round 415\n",
      "Round 416\n",
      "Round 417\n",
      "Round 418\n",
      "Round 419\n",
      "Round 420\n",
      "Round 421\n",
      "Round 422\n",
      "Round 423\n",
      "Round 424\n",
      "Round 425\n",
      "Round 426\n",
      "Round 427\n",
      "Round 428\n",
      "Round 429\n",
      "Round 430\n",
      "Round 431\n",
      "Round 432\n",
      "Round 433\n",
      "Round 434\n",
      "Round 435\n",
      "Round 436\n",
      "Round 437\n",
      "Round 438\n",
      "Round 439\n",
      "Round 440\n",
      "Round 441\n",
      "Round 442\n",
      "Round 443\n",
      "Round 444\n",
      "Round 445\n",
      "Round 446\n",
      "Round 447\n",
      "Round 448\n",
      "Round 449\n",
      "Round 450\n",
      "Round 451\n",
      "Round 452\n",
      "Round 453\n",
      "Round 454\n",
      "Round 455\n",
      "Round 456\n",
      "Round 457\n",
      "Round 458\n",
      "Round 459\n",
      "Round 460\n",
      "Round 461\n",
      "Round 462\n",
      "Round 463\n",
      "Round 464\n",
      "Round 465\n",
      "Round 466\n",
      "Round 467\n",
      "Round 468\n",
      "Round 469\n",
      "Round 470\n",
      "Round 471\n",
      "Round 472\n",
      "Round 473\n",
      "Round 474\n",
      "Round 475\n",
      "Round 476\n",
      "Round 477\n",
      "Round 478\n",
      "Round 479\n",
      "Round 480\n",
      "Round 481\n",
      "Round 482\n",
      "Round 483\n",
      "Round 484\n",
      "Round 485\n",
      "Round 486\n",
      "Round 487\n",
      "Round 488\n",
      "Round 489\n",
      "Round 490\n",
      "Round 491\n",
      "Round 492\n",
      "Round 493\n",
      "Round 494\n",
      "Round 495\n",
      "Round 496\n",
      "Round 497\n",
      "Round 498\n",
      "Round 499\n",
      "Round 500\n",
      "Round 501\n",
      "Round 502\n",
      "Round 503\n",
      "Round 504\n",
      "Round 505\n",
      "Round 506\n",
      "Round 507\n",
      "Round 508\n",
      "Round 509\n",
      "Round 510\n",
      "Round 511\n",
      "Round 512\n",
      "Round 513\n",
      "Round 514\n",
      "Round 515\n",
      "Round 516\n",
      "Round 517\n",
      "Round 518\n",
      "Round 519\n",
      "Round 520\n",
      "Round 521\n",
      "Round 522\n",
      "Round 523\n",
      "Round 524\n",
      "Round 525\n",
      "Round 526\n",
      "Round 527\n",
      "Round 528\n",
      "Round 529\n",
      "WAR!!!!\n",
      "Round 530\n",
      "Round 531\n",
      "WAR!!!!\n",
      "Round 532\n",
      "Round 533\n",
      "Round 534\n",
      "Round 535\n",
      "Round 536\n",
      "Round 537\n",
      "Round 538\n",
      "Round 539\n",
      "Round 540\n",
      "Round 541\n",
      "Round 542\n",
      "Round 543\n",
      "Round 544\n",
      "Round 545\n",
      "Round 546\n",
      "Round 547\n",
      "Round 548\n",
      "Round 549\n",
      "Round 550\n",
      "Round 551\n",
      "Round 552\n",
      "Round 553\n",
      "Round 554\n",
      "Round 555\n",
      "Round 556\n",
      "Round 557\n",
      "Round 558\n",
      "Round 559\n",
      "Round 560\n",
      "Round 561\n",
      "Round 562\n",
      "Round 563\n",
      "Round 564\n",
      "Round 565\n",
      "Round 566\n",
      "Round 567\n",
      "Round 568\n",
      "Round 569\n",
      "Round 570\n",
      "Round 571\n",
      "Round 572\n",
      "Round 573\n",
      "Round 574\n",
      "Round 575\n",
      "Round 576\n",
      "Round 577\n",
      "Round 578\n",
      "Round 579\n",
      "Round 580\n",
      "Round 581\n",
      "Round 582\n",
      "Round 583\n",
      "Round 584\n",
      "Round 585\n",
      "Round 586\n",
      "Round 587\n",
      "Round 588\n",
      "Round 589\n",
      "Round 590\n",
      "Round 591\n",
      "Round 592\n",
      "Round 593\n",
      "Round 594\n",
      "Round 595\n",
      "Round 596\n",
      "Round 597\n",
      "Round 598\n",
      "Round 599\n",
      "Round 600\n",
      "Round 601\n",
      "Round 602\n",
      "Round 603\n",
      "Round 604\n",
      "Round 605\n",
      "Round 606\n",
      "Round 607\n",
      "Round 608\n",
      "Round 609\n",
      "Round 610\n",
      "Round 611\n",
      "Round 612\n",
      "Round 613\n",
      "Round 614\n",
      "Round 615\n",
      "Round 616\n",
      "Round 617\n",
      "Round 618\n",
      "Round 619\n",
      "Round 620\n",
      "Round 621\n",
      "Round 622\n",
      "Round 623\n",
      "Round 624\n",
      "Round 625\n",
      "Round 626\n",
      "Round 627\n",
      "Round 628\n",
      "WAR!!!!\n",
      "Round 629\n",
      "WAR!!!!\n",
      "Round 630\n",
      "Round 631\n",
      "Round 632\n",
      "Round 633\n",
      "Round 634\n",
      "Round 635\n",
      "Round 636\n",
      "Round 637\n",
      "Round 638\n",
      "Round 639\n",
      "Round 640\n",
      "Round 641\n",
      "Round 642\n",
      "Round 643\n",
      "Round 644\n",
      "Round 645\n",
      "WAR!!!!\n",
      "Round 646\n",
      "Round 647\n",
      "Round 648\n",
      "Round 649\n",
      "Round 650\n",
      "Round 651\n",
      "Round 652\n",
      "Round 653\n",
      "Round 654\n",
      "Round 655\n",
      "Round 656\n",
      "Round 657\n",
      "Round 658\n",
      "Round 659\n",
      "Round 660\n",
      "Round 661\n",
      "Round 662\n",
      "Round 663\n",
      "Round 664\n",
      "Round 665\n",
      "Round 666\n",
      "Round 667\n",
      "Round 668\n",
      "Round 669\n",
      "Round 670\n",
      "Round 671\n",
      "Round 672\n",
      "Round 673\n",
      "Round 674\n",
      "Round 675\n",
      "Round 676\n",
      "Round 677\n",
      "Round 678\n",
      "Round 679\n",
      "Round 680\n",
      "Round 681\n",
      "WAR!!!!\n",
      "Round 682\n",
      "Round 683\n",
      "Round 684\n",
      "Round 685\n",
      "Round 686\n",
      "Round 687\n",
      "Round 688\n",
      "Round 689\n",
      "Round 690\n",
      "Round 691\n",
      "Round 692\n",
      "Round 693\n",
      "Round 694\n",
      "Round 695\n",
      "Round 696\n",
      "Round 697\n",
      "Round 698\n",
      "Round 699\n",
      "Round 700\n",
      "Round 701\n",
      "Round 702\n",
      "Round 703\n",
      "Round 704\n",
      "Round 705\n",
      "Round 706\n",
      "Round 707\n",
      "Round 708\n",
      "Round 709\n",
      "Round 710\n",
      "WAR!!!!\n",
      "Round 711\n",
      "Round 712\n",
      "Round 713\n",
      "Round 714\n",
      "Round 715\n",
      "Round 716\n",
      "Round 717\n",
      "Round 718\n",
      "Round 719\n",
      "Round 720\n",
      "Round 721\n",
      "Round 722\n",
      "Round 723\n",
      "Round 724\n",
      "Round 725\n",
      "Round 726\n",
      "Round 727\n",
      "Round 728\n",
      "Round 729\n",
      "Round 730\n",
      "Round 731\n",
      "Round 732\n",
      "Round 733\n",
      "Round 734\n",
      "Round 735\n",
      "Round 736\n",
      "Round 737\n",
      "Round 738\n",
      "Round 739\n",
      "Round 740\n",
      "Round 741\n",
      "Round 742\n",
      "Round 743\n",
      "Round 744\n",
      "Round 745\n",
      "Round 746\n",
      "Round 747\n",
      "Round 748\n",
      "Round 749\n",
      "Round 750\n",
      "Round 751\n",
      "Round 752\n",
      "Round 753\n",
      "Round 754\n",
      "Round 755\n",
      "Round 756\n",
      "Round 757\n",
      "Round 758\n",
      "Round 759\n",
      "Round 760\n",
      "Round 761\n",
      "Round 762\n",
      "Round 763\n",
      "Round 764\n",
      "Round 765\n",
      "Round 766\n",
      "Round 767\n",
      "Round 768\n",
      "Round 769\n",
      "Round 770\n",
      "Round 771\n",
      "Round 772\n",
      "Round 773\n",
      "Round 774\n",
      "Round 775\n",
      "Round 776\n",
      "Round 777\n",
      "Round 778\n",
      "Round 779\n",
      "Round 780\n",
      "Round 781\n",
      "Round 782\n",
      "Round 783\n",
      "WAR!!!!\n",
      "Round 784\n",
      "Round 785\n",
      "Round 786\n",
      "Round 787\n",
      "Round 788\n",
      "Round 789\n",
      "Round 790\n",
      "Round 791\n",
      "Round 792\n",
      "Round 793\n",
      "Round 794\n",
      "Round 795\n",
      "Round 796\n",
      "Round 797\n",
      "Round 798\n",
      "Round 799\n",
      "Round 800\n",
      "Round 801\n",
      "Round 802\n",
      "Round 803\n",
      "Round 804\n",
      "Round 805\n",
      "Round 806\n",
      "Round 807\n",
      "Round 808\n",
      "Round 809\n",
      "Round 810\n",
      "Round 811\n",
      "Round 812\n",
      "Round 813\n",
      "Round 814\n",
      "Round 815\n",
      "Round 816\n",
      "Round 817\n",
      "Round 818\n",
      "Round 819\n",
      "Round 820\n",
      "Round 821\n",
      "Round 822\n",
      "Round 823\n",
      "Round 824\n",
      "WAR!!!!\n",
      "Player Two unable to fight in war \n",
      "PLAYER One WINS!!!!!\n"
     ]
    }
   ],
   "source": [
    "game_on = True\n",
    "\n",
    "round_num = 0\n",
    "\n",
    "while game_on:\n",
    "    \n",
    "    round_num += 1\n",
    "    print(f\"Round {round_num}\")\n",
    "    \n",
    "    if len(player_one.all_cards) == 0:\n",
    "        print(\"Player One is out of cards\")\n",
    "        print(\"Player Two Wins!!!!\")\n",
    "        game_on = False\n",
    "        break\n",
    "        \n",
    "    if len(player_two.all_cards) == 0:\n",
    "        print(\"Player Two is out of cards\")\n",
    "        print(\"Player One Wins!!!!\")\n",
    "        game_on = False\n",
    "        break\n",
    "        \n",
    "    # Start a New Round\n",
    "    player_one_cards = []\n",
    "    player_one_cards.append(player_one.remove_one())\n",
    "    \n",
    "    player_two_cards = []\n",
    "    player_two_cards.append(player_two.remove_one())\n",
    "        \n",
    "     \n",
    "    at_war = True\n",
    "    \n",
    "    while at_war:\n",
    "        if player_one_cards[-1].value > player_two_cards[-1].value:\n",
    "            player_one.add_cards(player_one_cards)\n",
    "            player_one.add_cards(player_two_cards)\n",
    "            at_war = False\n",
    "            \n",
    "        elif player_one_cards[-1].value < player_two_cards[-1].value:\n",
    "            player_two.add_cards(player_one_cards)\n",
    "            player_two.add_cards(player_two_cards)\n",
    "            at_war = False \n",
    "            \n",
    "        else:\n",
    "            print('WAR!!!!')\n",
    "            if len(player_one.all_cards) < 5:\n",
    "                print(\"Player One unable to fight in war \")\n",
    "                print(\"PLAYER TWO WINS!!!!!\")\n",
    "                game_on = False\n",
    "                break\n",
    "            \n",
    "            elif len(player_two.all_cards) < 5:\n",
    "                print(\"Player Two unable to fight in war \")\n",
    "                print(\"PLAYER One WINS!!!!!\")\n",
    "                game_on = False\n",
    "                break\n",
    "            \n",
    "            else:\n",
    "                for num in range(5):\n",
    "                    player_one_cards.append(player_one.remove_one())\n",
    "                    player_two_cards.append(player_two.remove_one())\n",
    "            \n",
    "            "
   ]
  },
  {
   "cell_type": "code",
   "execution_count": null,
   "metadata": {},
   "outputs": [],
   "source": []
  }
 ],
 "metadata": {
  "kernelspec": {
   "display_name": "Python 3",
   "language": "python",
   "name": "python3"
  },
  "language_info": {
   "codemirror_mode": {
    "name": "ipython",
    "version": 3
   },
   "file_extension": ".py",
   "mimetype": "text/x-python",
   "name": "python",
   "nbconvert_exporter": "python",
   "pygments_lexer": "ipython3",
   "version": "3.8.3"
  }
 },
 "nbformat": 4,
 "nbformat_minor": 4
}
